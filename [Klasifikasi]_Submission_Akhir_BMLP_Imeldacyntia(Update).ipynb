{
  "nbformat": 4,
  "nbformat_minor": 0,
  "metadata": {
    "colab": {
      "provenance": []
    },
    "kernelspec": {
      "name": "python3",
      "display_name": "Python 3"
    },
    "language_info": {
      "name": "python"
    }
  },
  "cells": [
    {
      "cell_type": "markdown",
      "source": [
        "# **1. Import Library**"
      ],
      "metadata": {
        "id": "fKADPWcFKlj3"
      }
    },
    {
      "cell_type": "markdown",
      "source": [
        "Pada tahap ini, Anda perlu mengimpor beberapa pustaka (library) Python yang dibutuhkan untuk analisis data dan pembangunan model machine learning."
      ],
      "metadata": {
        "id": "LgA3ERnVn84N"
      }
    },
    {
      "cell_type": "code",
      "source": [
        "!pip install scikit-optimize"
      ],
      "metadata": {
        "id": "BlmvjLY9M4Yj",
        "colab": {
          "base_uri": "https://localhost:8080/"
        },
        "outputId": "b14b975f-17b1-4ada-bcf7-7023967b57aa"
      },
      "execution_count": 113,
      "outputs": [
        {
          "output_type": "stream",
          "name": "stdout",
          "text": [
            "Requirement already satisfied: scikit-optimize in /usr/local/lib/python3.11/dist-packages (0.10.2)\n",
            "Requirement already satisfied: joblib>=0.11 in /usr/local/lib/python3.11/dist-packages (from scikit-optimize) (1.4.2)\n",
            "Requirement already satisfied: pyaml>=16.9 in /usr/local/lib/python3.11/dist-packages (from scikit-optimize) (25.1.0)\n",
            "Requirement already satisfied: numpy>=1.20.3 in /usr/local/lib/python3.11/dist-packages (from scikit-optimize) (2.0.2)\n",
            "Requirement already satisfied: scipy>=1.1.0 in /usr/local/lib/python3.11/dist-packages (from scikit-optimize) (1.14.1)\n",
            "Requirement already satisfied: scikit-learn>=1.0.0 in /usr/local/lib/python3.11/dist-packages (from scikit-optimize) (1.6.1)\n",
            "Requirement already satisfied: packaging>=21.3 in /usr/local/lib/python3.11/dist-packages (from scikit-optimize) (24.2)\n",
            "Requirement already satisfied: PyYAML in /usr/local/lib/python3.11/dist-packages (from pyaml>=16.9->scikit-optimize) (6.0.2)\n",
            "Requirement already satisfied: threadpoolctl>=3.1.0 in /usr/local/lib/python3.11/dist-packages (from scikit-learn>=1.0.0->scikit-optimize) (3.6.0)\n"
          ]
        }
      ]
    },
    {
      "cell_type": "code",
      "source": [
        "# Import library untuk manipulasi data dan visualisasi\n",
        "import pandas as pd\n",
        "import numpy as np\n",
        "import seaborn as sns\n",
        "import matplotlib.pyplot as plt\n",
        "\n",
        "# Import library dari Scikit-learn untuk preprocessing dan model machine learning\n",
        "from sklearn.model_selection import train_test_split\n",
        "from sklearn.preprocessing import MinMaxScaler\n",
        "\n",
        "# Import berbagai algoritma klasifikasi\n",
        "from sklearn.neighbors import KNeighborsClassifier\n",
        "from sklearn.tree import DecisionTreeClassifier\n",
        "from sklearn.ensemble import RandomForestClassifier\n",
        "from sklearn.svm import SVC\n",
        "from sklearn.naive_bayes import GaussianNB\n",
        "\n",
        "# Import metrik evaluasi performa model\n",
        "from sklearn.metrics import confusion_matrix, accuracy_score, precision_score, recall_score, f1_score, classification_report\n",
        "\n",
        "# Import BayesSearchCV untuk hyperparameter tuning berbasis optimisasi Bayes\n",
        "from skopt import BayesSearchCV\n",
        "from skopt.space import Real, Categorical, Integer\n",
        "\n",
        "# Import StratifiedKFold untuk validasi silang dengan menjaga proporsi label\n",
        "from sklearn.model_selection import StratifiedKFold"
      ],
      "metadata": {
        "id": "kU62sJrGZaw5"
      },
      "execution_count": 114,
      "outputs": []
    },
    {
      "cell_type": "markdown",
      "source": [
        "# **2. Memuat Dataset dari Hasil Clustering**"
      ],
      "metadata": {
        "id": "f3YIEnAFKrKL"
      }
    },
    {
      "cell_type": "markdown",
      "source": [
        "Memuat dataset hasil clustering dari file CSV ke dalam variabel DataFrame."
      ],
      "metadata": {
        "id": "Ey3ItwTen_7E"
      }
    },
    {
      "cell_type": "code",
      "source": [
        "# Membaca dataset hasil clustering\n",
        "file_path = \"hasil_clustering.csv\"\n",
        "df = pd.read_csv(file_path)"
      ],
      "metadata": {
        "id": "GHCGNTyrM5fS"
      },
      "execution_count": 115,
      "outputs": []
    },
    {
      "cell_type": "code",
      "source": [
        "# Menampilkan 5 data teratas untuk memastikan data telah dimuat dengan benar\n",
        "df.head()"
      ],
      "metadata": {
        "colab": {
          "base_uri": "https://localhost:8080/",
          "height": 342
        },
        "id": "9vr4yKCWZqvt",
        "outputId": "fd0a3bb9-3115-4f0a-c740-3cf62a141a27"
      },
      "execution_count": 116,
      "outputs": [
        {
          "output_type": "execute_result",
          "data": {
            "text/plain": [
              "  TransactionID AccountID  TransactionAmount      TransactionDate  \\\n",
              "0      TX000001   AC00128        4410.297491  2023-04-11 16:29:14   \n",
              "1      TX000002   AC00455      110117.582785  2023-06-27 16:44:19   \n",
              "2      TX000003   AC00019       37160.145372  2023-07-10 18:16:08   \n",
              "3      TX000004   AC00070       54150.953261  2023-05-05 16:32:11   \n",
              "4      TX000005   AC00411        4223.489090  2023-10-16 17:51:24   \n",
              "\n",
              "  TransactionType   Location DeviceID      IP Address MerchantID  CustomerAge  \\\n",
              "0           Debit  San Diego  D000380  162.198.218.92       M015  1289.879913   \n",
              "1           Debit    Houston  D000051     13.149.61.4       M052  1254.302601   \n",
              "2           Debit       Mesa  D000235  215.97.143.157       M009   382.658437   \n",
              "3           Debit    Raleigh  D000187  200.13.225.150       M002   507.179032   \n",
              "4          Credit    Atlanta  D000308    65.164.3.100       M091   507.179032   \n",
              "\n",
              "   ...  PreviousTransactionDate  TimeSinceLastTransaction  TransactionHour  \\\n",
              "0  ...      2024-11-04 08:08:08             -4.546640e+14        28.320807   \n",
              "1  ...      2024-11-04 08:09:35             -3.935214e+14        28.320807   \n",
              "2  ...      2024-11-04 08:07:04             -3.831479e+14        29.782634   \n",
              "3  ...      2024-11-04 08:09:06             -4.356078e+14        28.320807   \n",
              "4  ...      2024-11-04 08:06:39             -3.053530e+14        29.051720   \n",
              "\n",
              "  TransactionFrequency  DeviceUsage    IPUsage  MerchantPreference  Cluster  \\\n",
              "0            21.886277    15.573786  11.272876            1.275677        1   \n",
              "1            21.886277    13.739435  13.311021            1.275677        1   \n",
              "2            15.124961    13.739435  19.425458            1.275677        2   \n",
              "3            24.140049    15.573786  21.463603            1.275677        2   \n",
              "4            19.632505    10.070731  13.311021            1.275677        2   \n",
              "\n",
              "   Channel  CustomerOccupation  \n",
              "0      ATM              Doctor  \n",
              "1      ATM              Doctor  \n",
              "2   Online             Student  \n",
              "3   Online             Student  \n",
              "4   Online             Student  \n",
              "\n",
              "[5 rows x 23 columns]"
            ],
            "text/html": [
              "\n",
              "  <div id=\"df-0cb49d35-2b75-47d0-98e4-405956d9e56f\" class=\"colab-df-container\">\n",
              "    <div>\n",
              "<style scoped>\n",
              "    .dataframe tbody tr th:only-of-type {\n",
              "        vertical-align: middle;\n",
              "    }\n",
              "\n",
              "    .dataframe tbody tr th {\n",
              "        vertical-align: top;\n",
              "    }\n",
              "\n",
              "    .dataframe thead th {\n",
              "        text-align: right;\n",
              "    }\n",
              "</style>\n",
              "<table border=\"1\" class=\"dataframe\">\n",
              "  <thead>\n",
              "    <tr style=\"text-align: right;\">\n",
              "      <th></th>\n",
              "      <th>TransactionID</th>\n",
              "      <th>AccountID</th>\n",
              "      <th>TransactionAmount</th>\n",
              "      <th>TransactionDate</th>\n",
              "      <th>TransactionType</th>\n",
              "      <th>Location</th>\n",
              "      <th>DeviceID</th>\n",
              "      <th>IP Address</th>\n",
              "      <th>MerchantID</th>\n",
              "      <th>CustomerAge</th>\n",
              "      <th>...</th>\n",
              "      <th>PreviousTransactionDate</th>\n",
              "      <th>TimeSinceLastTransaction</th>\n",
              "      <th>TransactionHour</th>\n",
              "      <th>TransactionFrequency</th>\n",
              "      <th>DeviceUsage</th>\n",
              "      <th>IPUsage</th>\n",
              "      <th>MerchantPreference</th>\n",
              "      <th>Cluster</th>\n",
              "      <th>Channel</th>\n",
              "      <th>CustomerOccupation</th>\n",
              "    </tr>\n",
              "  </thead>\n",
              "  <tbody>\n",
              "    <tr>\n",
              "      <th>0</th>\n",
              "      <td>TX000001</td>\n",
              "      <td>AC00128</td>\n",
              "      <td>4410.297491</td>\n",
              "      <td>2023-04-11 16:29:14</td>\n",
              "      <td>Debit</td>\n",
              "      <td>San Diego</td>\n",
              "      <td>D000380</td>\n",
              "      <td>162.198.218.92</td>\n",
              "      <td>M015</td>\n",
              "      <td>1289.879913</td>\n",
              "      <td>...</td>\n",
              "      <td>2024-11-04 08:08:08</td>\n",
              "      <td>-4.546640e+14</td>\n",
              "      <td>28.320807</td>\n",
              "      <td>21.886277</td>\n",
              "      <td>15.573786</td>\n",
              "      <td>11.272876</td>\n",
              "      <td>1.275677</td>\n",
              "      <td>1</td>\n",
              "      <td>ATM</td>\n",
              "      <td>Doctor</td>\n",
              "    </tr>\n",
              "    <tr>\n",
              "      <th>1</th>\n",
              "      <td>TX000002</td>\n",
              "      <td>AC00455</td>\n",
              "      <td>110117.582785</td>\n",
              "      <td>2023-06-27 16:44:19</td>\n",
              "      <td>Debit</td>\n",
              "      <td>Houston</td>\n",
              "      <td>D000051</td>\n",
              "      <td>13.149.61.4</td>\n",
              "      <td>M052</td>\n",
              "      <td>1254.302601</td>\n",
              "      <td>...</td>\n",
              "      <td>2024-11-04 08:09:35</td>\n",
              "      <td>-3.935214e+14</td>\n",
              "      <td>28.320807</td>\n",
              "      <td>21.886277</td>\n",
              "      <td>13.739435</td>\n",
              "      <td>13.311021</td>\n",
              "      <td>1.275677</td>\n",
              "      <td>1</td>\n",
              "      <td>ATM</td>\n",
              "      <td>Doctor</td>\n",
              "    </tr>\n",
              "    <tr>\n",
              "      <th>2</th>\n",
              "      <td>TX000003</td>\n",
              "      <td>AC00019</td>\n",
              "      <td>37160.145372</td>\n",
              "      <td>2023-07-10 18:16:08</td>\n",
              "      <td>Debit</td>\n",
              "      <td>Mesa</td>\n",
              "      <td>D000235</td>\n",
              "      <td>215.97.143.157</td>\n",
              "      <td>M009</td>\n",
              "      <td>382.658437</td>\n",
              "      <td>...</td>\n",
              "      <td>2024-11-04 08:07:04</td>\n",
              "      <td>-3.831479e+14</td>\n",
              "      <td>29.782634</td>\n",
              "      <td>15.124961</td>\n",
              "      <td>13.739435</td>\n",
              "      <td>19.425458</td>\n",
              "      <td>1.275677</td>\n",
              "      <td>2</td>\n",
              "      <td>Online</td>\n",
              "      <td>Student</td>\n",
              "    </tr>\n",
              "    <tr>\n",
              "      <th>3</th>\n",
              "      <td>TX000004</td>\n",
              "      <td>AC00070</td>\n",
              "      <td>54150.953261</td>\n",
              "      <td>2023-05-05 16:32:11</td>\n",
              "      <td>Debit</td>\n",
              "      <td>Raleigh</td>\n",
              "      <td>D000187</td>\n",
              "      <td>200.13.225.150</td>\n",
              "      <td>M002</td>\n",
              "      <td>507.179032</td>\n",
              "      <td>...</td>\n",
              "      <td>2024-11-04 08:09:06</td>\n",
              "      <td>-4.356078e+14</td>\n",
              "      <td>28.320807</td>\n",
              "      <td>24.140049</td>\n",
              "      <td>15.573786</td>\n",
              "      <td>21.463603</td>\n",
              "      <td>1.275677</td>\n",
              "      <td>2</td>\n",
              "      <td>Online</td>\n",
              "      <td>Student</td>\n",
              "    </tr>\n",
              "    <tr>\n",
              "      <th>4</th>\n",
              "      <td>TX000005</td>\n",
              "      <td>AC00411</td>\n",
              "      <td>4223.489090</td>\n",
              "      <td>2023-10-16 17:51:24</td>\n",
              "      <td>Credit</td>\n",
              "      <td>Atlanta</td>\n",
              "      <td>D000308</td>\n",
              "      <td>65.164.3.100</td>\n",
              "      <td>M091</td>\n",
              "      <td>507.179032</td>\n",
              "      <td>...</td>\n",
              "      <td>2024-11-04 08:06:39</td>\n",
              "      <td>-3.053530e+14</td>\n",
              "      <td>29.051720</td>\n",
              "      <td>19.632505</td>\n",
              "      <td>10.070731</td>\n",
              "      <td>13.311021</td>\n",
              "      <td>1.275677</td>\n",
              "      <td>2</td>\n",
              "      <td>Online</td>\n",
              "      <td>Student</td>\n",
              "    </tr>\n",
              "  </tbody>\n",
              "</table>\n",
              "<p>5 rows × 23 columns</p>\n",
              "</div>\n",
              "    <div class=\"colab-df-buttons\">\n",
              "\n",
              "  <div class=\"colab-df-container\">\n",
              "    <button class=\"colab-df-convert\" onclick=\"convertToInteractive('df-0cb49d35-2b75-47d0-98e4-405956d9e56f')\"\n",
              "            title=\"Convert this dataframe to an interactive table.\"\n",
              "            style=\"display:none;\">\n",
              "\n",
              "  <svg xmlns=\"http://www.w3.org/2000/svg\" height=\"24px\" viewBox=\"0 -960 960 960\">\n",
              "    <path d=\"M120-120v-720h720v720H120Zm60-500h600v-160H180v160Zm220 220h160v-160H400v160Zm0 220h160v-160H400v160ZM180-400h160v-160H180v160Zm440 0h160v-160H620v160ZM180-180h160v-160H180v160Zm440 0h160v-160H620v160Z\"/>\n",
              "  </svg>\n",
              "    </button>\n",
              "\n",
              "  <style>\n",
              "    .colab-df-container {\n",
              "      display:flex;\n",
              "      gap: 12px;\n",
              "    }\n",
              "\n",
              "    .colab-df-convert {\n",
              "      background-color: #E8F0FE;\n",
              "      border: none;\n",
              "      border-radius: 50%;\n",
              "      cursor: pointer;\n",
              "      display: none;\n",
              "      fill: #1967D2;\n",
              "      height: 32px;\n",
              "      padding: 0 0 0 0;\n",
              "      width: 32px;\n",
              "    }\n",
              "\n",
              "    .colab-df-convert:hover {\n",
              "      background-color: #E2EBFA;\n",
              "      box-shadow: 0px 1px 2px rgba(60, 64, 67, 0.3), 0px 1px 3px 1px rgba(60, 64, 67, 0.15);\n",
              "      fill: #174EA6;\n",
              "    }\n",
              "\n",
              "    .colab-df-buttons div {\n",
              "      margin-bottom: 4px;\n",
              "    }\n",
              "\n",
              "    [theme=dark] .colab-df-convert {\n",
              "      background-color: #3B4455;\n",
              "      fill: #D2E3FC;\n",
              "    }\n",
              "\n",
              "    [theme=dark] .colab-df-convert:hover {\n",
              "      background-color: #434B5C;\n",
              "      box-shadow: 0px 1px 3px 1px rgba(0, 0, 0, 0.15);\n",
              "      filter: drop-shadow(0px 1px 2px rgba(0, 0, 0, 0.3));\n",
              "      fill: #FFFFFF;\n",
              "    }\n",
              "  </style>\n",
              "\n",
              "    <script>\n",
              "      const buttonEl =\n",
              "        document.querySelector('#df-0cb49d35-2b75-47d0-98e4-405956d9e56f button.colab-df-convert');\n",
              "      buttonEl.style.display =\n",
              "        google.colab.kernel.accessAllowed ? 'block' : 'none';\n",
              "\n",
              "      async function convertToInteractive(key) {\n",
              "        const element = document.querySelector('#df-0cb49d35-2b75-47d0-98e4-405956d9e56f');\n",
              "        const dataTable =\n",
              "          await google.colab.kernel.invokeFunction('convertToInteractive',\n",
              "                                                    [key], {});\n",
              "        if (!dataTable) return;\n",
              "\n",
              "        const docLinkHtml = 'Like what you see? Visit the ' +\n",
              "          '<a target=\"_blank\" href=https://colab.research.google.com/notebooks/data_table.ipynb>data table notebook</a>'\n",
              "          + ' to learn more about interactive tables.';\n",
              "        element.innerHTML = '';\n",
              "        dataTable['output_type'] = 'display_data';\n",
              "        await google.colab.output.renderOutput(dataTable, element);\n",
              "        const docLink = document.createElement('div');\n",
              "        docLink.innerHTML = docLinkHtml;\n",
              "        element.appendChild(docLink);\n",
              "      }\n",
              "    </script>\n",
              "  </div>\n",
              "\n",
              "\n",
              "<div id=\"df-c56bb9fc-3ab8-4caf-9a10-0682a8e9fd9c\">\n",
              "  <button class=\"colab-df-quickchart\" onclick=\"quickchart('df-c56bb9fc-3ab8-4caf-9a10-0682a8e9fd9c')\"\n",
              "            title=\"Suggest charts\"\n",
              "            style=\"display:none;\">\n",
              "\n",
              "<svg xmlns=\"http://www.w3.org/2000/svg\" height=\"24px\"viewBox=\"0 0 24 24\"\n",
              "     width=\"24px\">\n",
              "    <g>\n",
              "        <path d=\"M19 3H5c-1.1 0-2 .9-2 2v14c0 1.1.9 2 2 2h14c1.1 0 2-.9 2-2V5c0-1.1-.9-2-2-2zM9 17H7v-7h2v7zm4 0h-2V7h2v10zm4 0h-2v-4h2v4z\"/>\n",
              "    </g>\n",
              "</svg>\n",
              "  </button>\n",
              "\n",
              "<style>\n",
              "  .colab-df-quickchart {\n",
              "      --bg-color: #E8F0FE;\n",
              "      --fill-color: #1967D2;\n",
              "      --hover-bg-color: #E2EBFA;\n",
              "      --hover-fill-color: #174EA6;\n",
              "      --disabled-fill-color: #AAA;\n",
              "      --disabled-bg-color: #DDD;\n",
              "  }\n",
              "\n",
              "  [theme=dark] .colab-df-quickchart {\n",
              "      --bg-color: #3B4455;\n",
              "      --fill-color: #D2E3FC;\n",
              "      --hover-bg-color: #434B5C;\n",
              "      --hover-fill-color: #FFFFFF;\n",
              "      --disabled-bg-color: #3B4455;\n",
              "      --disabled-fill-color: #666;\n",
              "  }\n",
              "\n",
              "  .colab-df-quickchart {\n",
              "    background-color: var(--bg-color);\n",
              "    border: none;\n",
              "    border-radius: 50%;\n",
              "    cursor: pointer;\n",
              "    display: none;\n",
              "    fill: var(--fill-color);\n",
              "    height: 32px;\n",
              "    padding: 0;\n",
              "    width: 32px;\n",
              "  }\n",
              "\n",
              "  .colab-df-quickchart:hover {\n",
              "    background-color: var(--hover-bg-color);\n",
              "    box-shadow: 0 1px 2px rgba(60, 64, 67, 0.3), 0 1px 3px 1px rgba(60, 64, 67, 0.15);\n",
              "    fill: var(--button-hover-fill-color);\n",
              "  }\n",
              "\n",
              "  .colab-df-quickchart-complete:disabled,\n",
              "  .colab-df-quickchart-complete:disabled:hover {\n",
              "    background-color: var(--disabled-bg-color);\n",
              "    fill: var(--disabled-fill-color);\n",
              "    box-shadow: none;\n",
              "  }\n",
              "\n",
              "  .colab-df-spinner {\n",
              "    border: 2px solid var(--fill-color);\n",
              "    border-color: transparent;\n",
              "    border-bottom-color: var(--fill-color);\n",
              "    animation:\n",
              "      spin 1s steps(1) infinite;\n",
              "  }\n",
              "\n",
              "  @keyframes spin {\n",
              "    0% {\n",
              "      border-color: transparent;\n",
              "      border-bottom-color: var(--fill-color);\n",
              "      border-left-color: var(--fill-color);\n",
              "    }\n",
              "    20% {\n",
              "      border-color: transparent;\n",
              "      border-left-color: var(--fill-color);\n",
              "      border-top-color: var(--fill-color);\n",
              "    }\n",
              "    30% {\n",
              "      border-color: transparent;\n",
              "      border-left-color: var(--fill-color);\n",
              "      border-top-color: var(--fill-color);\n",
              "      border-right-color: var(--fill-color);\n",
              "    }\n",
              "    40% {\n",
              "      border-color: transparent;\n",
              "      border-right-color: var(--fill-color);\n",
              "      border-top-color: var(--fill-color);\n",
              "    }\n",
              "    60% {\n",
              "      border-color: transparent;\n",
              "      border-right-color: var(--fill-color);\n",
              "    }\n",
              "    80% {\n",
              "      border-color: transparent;\n",
              "      border-right-color: var(--fill-color);\n",
              "      border-bottom-color: var(--fill-color);\n",
              "    }\n",
              "    90% {\n",
              "      border-color: transparent;\n",
              "      border-bottom-color: var(--fill-color);\n",
              "    }\n",
              "  }\n",
              "</style>\n",
              "\n",
              "  <script>\n",
              "    async function quickchart(key) {\n",
              "      const quickchartButtonEl =\n",
              "        document.querySelector('#' + key + ' button');\n",
              "      quickchartButtonEl.disabled = true;  // To prevent multiple clicks.\n",
              "      quickchartButtonEl.classList.add('colab-df-spinner');\n",
              "      try {\n",
              "        const charts = await google.colab.kernel.invokeFunction(\n",
              "            'suggestCharts', [key], {});\n",
              "      } catch (error) {\n",
              "        console.error('Error during call to suggestCharts:', error);\n",
              "      }\n",
              "      quickchartButtonEl.classList.remove('colab-df-spinner');\n",
              "      quickchartButtonEl.classList.add('colab-df-quickchart-complete');\n",
              "    }\n",
              "    (() => {\n",
              "      let quickchartButtonEl =\n",
              "        document.querySelector('#df-c56bb9fc-3ab8-4caf-9a10-0682a8e9fd9c button');\n",
              "      quickchartButtonEl.style.display =\n",
              "        google.colab.kernel.accessAllowed ? 'block' : 'none';\n",
              "    })();\n",
              "  </script>\n",
              "</div>\n",
              "\n",
              "    </div>\n",
              "  </div>\n"
            ],
            "application/vnd.google.colaboratory.intrinsic+json": {
              "type": "dataframe",
              "variable_name": "df"
            }
          },
          "metadata": {},
          "execution_count": 116
        }
      ]
    },
    {
      "cell_type": "code",
      "source": [
        "# Menampilkan informasi struktur dataset seperti jumlah baris, kolom, tipe data, dan nilai non-null\n",
        "df.info()"
      ],
      "metadata": {
        "colab": {
          "base_uri": "https://localhost:8080/"
        },
        "id": "jmP01vwyZ0Eb",
        "outputId": "84710b71-0165-413c-a8c4-0caca01d9f35"
      },
      "execution_count": 117,
      "outputs": [
        {
          "output_type": "stream",
          "name": "stdout",
          "text": [
            "<class 'pandas.core.frame.DataFrame'>\n",
            "RangeIndex: 2512 entries, 0 to 2511\n",
            "Data columns (total 23 columns):\n",
            " #   Column                    Non-Null Count  Dtype  \n",
            "---  ------                    --------------  -----  \n",
            " 0   TransactionID             2512 non-null   object \n",
            " 1   AccountID                 2512 non-null   object \n",
            " 2   TransactionAmount         2512 non-null   float64\n",
            " 3   TransactionDate           2512 non-null   object \n",
            " 4   TransactionType           2512 non-null   object \n",
            " 5   Location                  2512 non-null   object \n",
            " 6   DeviceID                  2512 non-null   object \n",
            " 7   IP Address                2512 non-null   object \n",
            " 8   MerchantID                2512 non-null   object \n",
            " 9   CustomerAge               2512 non-null   float64\n",
            " 10  TransactionDuration       2512 non-null   float64\n",
            " 11  LoginAttempts             2512 non-null   float64\n",
            " 12  AccountBalance            2512 non-null   float64\n",
            " 13  PreviousTransactionDate   2512 non-null   object \n",
            " 14  TimeSinceLastTransaction  2512 non-null   float64\n",
            " 15  TransactionHour           2512 non-null   float64\n",
            " 16  TransactionFrequency      2512 non-null   float64\n",
            " 17  DeviceUsage               2512 non-null   float64\n",
            " 18  IPUsage                   2512 non-null   float64\n",
            " 19  MerchantPreference        2512 non-null   float64\n",
            " 20  Cluster                   2512 non-null   int64  \n",
            " 21  Channel                   2512 non-null   object \n",
            " 22  CustomerOccupation        2512 non-null   object \n",
            "dtypes: float64(11), int64(1), object(11)\n",
            "memory usage: 451.5+ KB\n"
          ]
        }
      ]
    },
    {
      "cell_type": "code",
      "source": [
        "# Menghapus kolom yang tidak relevan untuk proses klasifikasi\n",
        "columns_to_drop = [\n",
        "    \"TransactionID\", \"AccountID\", \"TransactionDate\",\n",
        "    \"Location\", \"DeviceID\", \"IP Address\",\n",
        "    \"MerchantID\", \"PreviousTransactionDate\"\n",
        "]\n",
        "df_clean = df.drop(columns=columns_to_drop)"
      ],
      "metadata": {
        "id": "YtfUXs1PZ3HY"
      },
      "execution_count": 118,
      "outputs": []
    },
    {
      "cell_type": "code",
      "source": [
        "# Encode kolom 'TransactionType' (Debit = 0, Credit = 1)\n",
        "df_clean['TransactionType'] = df_clean['TransactionType'].map({\n",
        "    'Debit': 0,\n",
        "    'Credit': 1\n",
        "})\n",
        "\n",
        "# One-hot encoding untuk kolom 'Channel'\n",
        "df_clean = pd.get_dummies(\n",
        "    df_clean,\n",
        "    columns=['Channel'],\n",
        "    drop_first=False\n",
        ")\n",
        "\n",
        "# One-hot encoding untuk kolom 'CustomerOccupation'\n",
        "df_clean = pd.get_dummies(\n",
        "    df_clean,\n",
        "    columns=['CustomerOccupation'],\n",
        "    drop_first=False\n",
        ")\n",
        "\n",
        "# Tampilkan informasi struktur DataFrame setelah encoding\n",
        "df_clean.info()"
      ],
      "metadata": {
        "colab": {
          "base_uri": "https://localhost:8080/"
        },
        "id": "pPtjZGoQZ5ze",
        "outputId": "43713abb-7087-43a7-d46a-5eda191c2cd5"
      },
      "execution_count": 119,
      "outputs": [
        {
          "output_type": "stream",
          "name": "stdout",
          "text": [
            "<class 'pandas.core.frame.DataFrame'>\n",
            "RangeIndex: 2512 entries, 0 to 2511\n",
            "Data columns (total 20 columns):\n",
            " #   Column                       Non-Null Count  Dtype  \n",
            "---  ------                       --------------  -----  \n",
            " 0   TransactionAmount            2512 non-null   float64\n",
            " 1   TransactionType              2512 non-null   int64  \n",
            " 2   CustomerAge                  2512 non-null   float64\n",
            " 3   TransactionDuration          2512 non-null   float64\n",
            " 4   LoginAttempts                2512 non-null   float64\n",
            " 5   AccountBalance               2512 non-null   float64\n",
            " 6   TimeSinceLastTransaction     2512 non-null   float64\n",
            " 7   TransactionHour              2512 non-null   float64\n",
            " 8   TransactionFrequency         2512 non-null   float64\n",
            " 9   DeviceUsage                  2512 non-null   float64\n",
            " 10  IPUsage                      2512 non-null   float64\n",
            " 11  MerchantPreference           2512 non-null   float64\n",
            " 12  Cluster                      2512 non-null   int64  \n",
            " 13  Channel_ATM                  2512 non-null   bool   \n",
            " 14  Channel_Branch               2512 non-null   bool   \n",
            " 15  Channel_Online               2512 non-null   bool   \n",
            " 16  CustomerOccupation_Doctor    2512 non-null   bool   \n",
            " 17  CustomerOccupation_Engineer  2512 non-null   bool   \n",
            " 18  CustomerOccupation_Retired   2512 non-null   bool   \n",
            " 19  CustomerOccupation_Student   2512 non-null   bool   \n",
            "dtypes: bool(7), float64(11), int64(2)\n",
            "memory usage: 272.4 KB\n"
          ]
        }
      ]
    },
    {
      "cell_type": "markdown",
      "source": [
        "# **3. Data Splitting**"
      ],
      "metadata": {
        "id": "KkPem5eWL2UP"
      }
    },
    {
      "cell_type": "markdown",
      "source": [
        "Tahap Data Splitting bertujuan untuk memisahkan dataset menjadi dua bagian: data latih (training set) dan data uji (test set)."
      ],
      "metadata": {
        "id": "YYj1rl_JNI9Y"
      }
    },
    {
      "cell_type": "code",
      "source": [
        "# Pisahkan fitur (X) dan label target (y)\n",
        "X = df_clean.drop(columns=['Cluster'])  # Fitur\n",
        "y = df_clean['Cluster']                 # Target klasifikasi"
      ],
      "metadata": {
        "id": "OubAW-7ONKVj"
      },
      "execution_count": 120,
      "outputs": []
    },
    {
      "cell_type": "code",
      "source": [
        "# Bagi dataset menjadi data pelatihan dan data pengujian (80% training, 20% testing)\n",
        "X_train, X_test, y_train, y_test = train_test_split(\n",
        "    X, y, test_size=0.2, random_state=42\n",
        ")\n",
        "\n",
        "# Tampilkan dimensi data hasil pembagian\n",
        "print(f\"Dimensi data pelatihan : X_train = {X_train.shape}, y_train = {y_train.shape}\")\n",
        "print(f\"Dimensi data pengujian : X_test  = {X_test.shape}, y_test  = {y_test.shape}\")"
      ],
      "metadata": {
        "id": "wJRpNTVZaAj6",
        "colab": {
          "base_uri": "https://localhost:8080/"
        },
        "outputId": "8f9f25e9-d8dd-48d9-8bf2-063de9963b20"
      },
      "execution_count": 121,
      "outputs": [
        {
          "output_type": "stream",
          "name": "stdout",
          "text": [
            "Dimensi data pelatihan : X_train = (2009, 19), y_train = (2009,)\n",
            "Dimensi data pengujian : X_test  = (503, 19), y_test  = (503,)\n"
          ]
        }
      ]
    },
    {
      "cell_type": "markdown",
      "source": [
        "Dari pembagian dataset yang dilakukan, data pelatihan terdiri dari 2009 sampel dengan 19 fitur, sementara data pengujian terdiri dari 503 sampel dengan 19 fitur juga. Pembagian ini dilakukan dengan proporsi 80% untuk pelatihan dan 20% untuk pengujian, yang merupakan praktik umum dalam machine learning untuk memastikan model dapat dilatih dengan cukup data dan diuji dengan data yang cukup untuk mengevaluasi kinerjanya. Dengan demikian, total sampel dataset adalah 2512, dengan 2009 data untuk pelatihan dan 503 data untuk pengujian."
      ],
      "metadata": {
        "id": "wOn1yVYV34PK"
      }
    },
    {
      "cell_type": "code",
      "source": [
        "# Inisialisasi MinMaxScaler\n",
        "scaler = MinMaxScaler()\n",
        "\n",
        "# Normalisasi fitur numerik\n",
        "num_cols = X.select_dtypes(include=['int64', 'float64']).columns\n",
        "X[num_cols] = scaler.fit_transform(X[num_cols])"
      ],
      "metadata": {
        "id": "bgA0yK0aaG8K"
      },
      "execution_count": 122,
      "outputs": []
    },
    {
      "cell_type": "markdown",
      "source": [
        "# **4. Membangun Model Klasifikasi**\n"
      ],
      "metadata": {
        "id": "IVPbB03CMhTT"
      }
    },
    {
      "cell_type": "markdown",
      "source": [
        "## **a. Membangun Model Klasifikasi**"
      ],
      "metadata": {
        "id": "Ned1pL9zMmBK"
      }
    },
    {
      "cell_type": "markdown",
      "source": [
        "Setelah memilih algoritma klasifikasi yang sesuai, langkah selanjutnya adalah melatih model menggunakan data latih.\n",
        "\n",
        "Berikut adalah rekomendasi tahapannya.\n",
        "1. Pilih algoritma klasifikasi yang sesuai, seperti Logistic Regression, Decision Tree, Random Forest, atau K-Nearest Neighbors (KNN).\n",
        "2. Latih model menggunakan data latih."
      ],
      "metadata": {
        "id": "WAWzPOE4Nkti"
      }
    },
    {
      "cell_type": "code",
      "source": [
        "# Inisialisasi dan latih model klasifikasi\n",
        "model_knn = KNeighborsClassifier().fit(X_train, y_train)\n",
        "model_dt  = DecisionTreeClassifier().fit(X_train, y_train)\n",
        "model_rf  = RandomForestClassifier().fit(X_train, y_train)\n",
        "model_svm = SVC().fit(X_train, y_train)\n",
        "model_nb = GaussianNB().fit(X_train, y_train)\n",
        "\n",
        "print(\"Semua model berhasil dilatih.\")"
      ],
      "metadata": {
        "id": "4JYxBe87NLDk",
        "colab": {
          "base_uri": "https://localhost:8080/"
        },
        "outputId": "73e7de1e-4515-4118-d11e-3309fe1764cd"
      },
      "execution_count": 123,
      "outputs": [
        {
          "output_type": "stream",
          "name": "stdout",
          "text": [
            "Semua model berhasil dilatih.\n"
          ]
        }
      ]
    },
    {
      "cell_type": "markdown",
      "source": [
        "1. **K-Nearest Neighbors (KNN)** merupakan algoritma yang memberikan performa optimal pada data berukuran kecil, namun efisiensinya menurun secara signifikan ketika diterapkan pada dataset yang besar.  \n",
        "2. **Decision Tree** memiliki keunggulan dalam hal interpretabilitas, namun algoritma ini rentan terhadap permasalahan overfitting jika tidak diatur dengan tepat.  \n",
        "3. **Random Forest (RF)** sering dipilih sebagai metode klasifikasi karena kemampuannya dalam mengurangi risiko overfitting serta menghasilkan tingkat akurasi yang tinggi.  \n",
        "4. **Support Vector Machine (SVM)** efektif dalam menangani data berdimensi tinggi, meskipun memiliki keterbatasan dalam hal kecepatan pemrosesan pada dataset yang besar."
      ],
      "metadata": {
        "id": "WZILhD7saSgH"
      }
    },
    {
      "cell_type": "markdown",
      "source": [
        "## **b. Evaluasi Model Klasifikasi**"
      ],
      "metadata": {
        "id": "ergzChZFEL-O"
      }
    },
    {
      "cell_type": "markdown",
      "source": [
        "Berikut adalah **rekomendasi** tahapannya.\n",
        "1. Lakukan prediksi menggunakan data uji.\n",
        "2. Hitung metrik evaluasi seperti Accuracy dan F1-Score (Opsional: Precision dan Recall).\n",
        "3. Buat confusion matrix untuk melihat detail prediksi benar dan salah."
      ],
      "metadata": {
        "id": "zOm68u-7NpLT"
      }
    },
    {
      "cell_type": "code",
      "source": [
        "# Daftar model yang akan dievaluasi\n",
        "model_list = {\n",
        "    \"K-Nearest Neighbors\": model_knn,\n",
        "    \"Decision Tree\": model_dt,\n",
        "    \"Random Forest\": model_rf,\n",
        "    \"Support Vector Machine\": model_svm,\n",
        "    \"Naïve Bayes\": model_nb\n",
        "}\n",
        "\n",
        "# Fungsi untuk evaluasi model\n",
        "def evaluate_model(model, model_name, X_test, y_test):\n",
        "    print(f\"\\nEvaluasi Model: {model_name} ===\")\n",
        "\n",
        "    # Prediksi menggunakan model\n",
        "    y_pred = model.predict(X_test)\n",
        "\n",
        "    # Hitung akurasi\n",
        "    accuracy = accuracy_score(y_test, y_pred)\n",
        "    print(f\"Akurasi: {accuracy:.4f}\")\n",
        "\n",
        "    # Laporan klasifikasi\n",
        "    print(\"\\nLaporan Klasifikasi:\")\n",
        "    print(classification_report(y_test, y_pred, zero_division=0))\n",
        "\n",
        "    # Matriks kebingungannya\n",
        "    conf_matrix = confusion_matrix(y_test, y_pred)\n",
        "    plt.figure(figsize=(6, 5))\n",
        "    sns.heatmap(conf_matrix, annot=True, fmt='d', cmap='Blues',\n",
        "                xticklabels=np.unique(y_test), yticklabels=np.unique(y_test))\n",
        "    plt.title(f\"Confusion Matrix - {model_name}\")\n",
        "    plt.xlabel(\"Predicted Labels\")\n",
        "    plt.ylabel(\"True Labels\")\n",
        "    plt.tight_layout()\n",
        "    plt.show()\n",
        "\n",
        "# Evaluasi setiap model dalam daftar\n",
        "for model_name, model in model_list.items():\n",
        "    evaluate_model(model, model_name, X_test, y_test)"
      ],
      "metadata": {
        "id": "tMq4QAssNLip",
        "colab": {
          "base_uri": "https://localhost:8080/",
          "height": 1000
        },
        "outputId": "5828874f-e085-410f-e9f8-781564e81c4b"
      },
      "execution_count": 124,
      "outputs": [
        {
          "output_type": "stream",
          "name": "stdout",
          "text": [
            "\n",
            "Evaluasi Model: K-Nearest Neighbors ===\n",
            "Akurasi: 0.3439\n",
            "\n",
            "Laporan Klasifikasi:\n",
            "              precision    recall  f1-score   support\n",
            "\n",
            "           0       0.40      0.46      0.43       186\n",
            "           1       0.32      0.37      0.34       166\n",
            "           2       0.27      0.17      0.21       151\n",
            "\n",
            "    accuracy                           0.34       503\n",
            "   macro avg       0.33      0.33      0.33       503\n",
            "weighted avg       0.33      0.34      0.33       503\n",
            "\n"
          ]
        },
        {
          "output_type": "display_data",
          "data": {
            "text/plain": [
              "<Figure size 600x500 with 2 Axes>"
            ],
            "image/png": "[encoded data removed]"
          },
          "metadata": {}
        },
        {
          "output_type": "stream",
          "name": "stdout",
          "text": [
            "\n",
            "Evaluasi Model: Decision Tree ===\n",
            "Akurasi: 1.0000\n",
            "\n",
            "Laporan Klasifikasi:\n",
            "              precision    recall  f1-score   support\n",
            "\n",
            "           0       1.00      1.00      1.00       186\n",
            "           1       1.00      1.00      1.00       166\n",
            "           2       1.00      1.00      1.00       151\n",
            "\n",
            "    accuracy                           1.00       503\n",
            "   macro avg       1.00      1.00      1.00       503\n",
            "weighted avg       1.00      1.00      1.00       503\n",
            "\n"
          ]
        },
        {
          "output_type": "display_data",
          "data": {
            "text/plain": [
              "<Figure size 600x500 with 2 Axes>"
            ],
            "image/png": "[encoded data removed]"
          },
          "metadata": {}
        },
        {
          "output_type": "stream",
          "name": "stdout",
          "text": [
            "\n",
            "Evaluasi Model: Random Forest ===\n",
            "Akurasi: 1.0000\n",
            "\n",
            "Laporan Klasifikasi:\n",
            "              precision    recall  f1-score   support\n",
            "\n",
            "           0       1.00      1.00      1.00       186\n",
            "           1       1.00      1.00      1.00       166\n",
            "           2       1.00      1.00      1.00       151\n",
            "\n",
            "    accuracy                           1.00       503\n",
            "   macro avg       1.00      1.00      1.00       503\n",
            "weighted avg       1.00      1.00      1.00       503\n",
            "\n"
          ]
        },
        {
          "output_type": "display_data",
          "data": {
            "text/plain": [
              "<Figure size 600x500 with 2 Axes>"
            ],
            "image/png": "[encoded data removed]"
          },
          "metadata": {}
        },
        {
          "output_type": "stream",
          "name": "stdout",
          "text": [
            "\n",
            "Evaluasi Model: Support Vector Machine ===\n",
            "Akurasi: 0.3459\n",
            "\n",
            "Laporan Klasifikasi:\n",
            "              precision    recall  f1-score   support\n",
            "\n",
            "           0       0.36      0.65      0.46       186\n",
            "           1       0.33      0.33      0.33       166\n",
            "           2       0.00      0.00      0.00       151\n",
            "\n",
            "    accuracy                           0.35       503\n",
            "   macro avg       0.23      0.32      0.26       503\n",
            "weighted avg       0.24      0.35      0.28       503\n",
            "\n"
          ]
        },
        {
          "output_type": "display_data",
          "data": {
            "text/plain": [
              "<Figure size 600x500 with 2 Axes>"
            ],
            "image/png": "[encoded data removed]"
          },
          "metadata": {}
        },
        {
          "output_type": "stream",
          "name": "stdout",
          "text": [
            "\n",
            "Evaluasi Model: Naïve Bayes ===\n",
            "Akurasi: 0.2883\n",
            "\n",
            "Laporan Klasifikasi:\n",
            "              precision    recall  f1-score   support\n",
            "\n",
            "           0       0.32      0.29      0.30       186\n",
            "           1       0.30      0.37      0.33       166\n",
            "           2       0.23      0.20      0.21       151\n",
            "\n",
            "    accuracy                           0.29       503\n",
            "   macro avg       0.28      0.29      0.28       503\n",
            "weighted avg       0.29      0.29      0.29       503\n",
            "\n"
          ]
        },
        {
          "output_type": "display_data",
          "data": {
            "text/plain": [
              "<Figure size 600x500 with 2 Axes>"
            ],
            "image/png": "[encoded data removed]"
          },
          "metadata": {}
        }
      ]
    },
    {
      "cell_type": "markdown",
      "source": [
        "# **Evaluasi Model Machine Learning**  \n",
        "\n",
        "## **1. KNN (K-Nearest Neighbors)**  \n",
        "- **Akurasi**: **0.3439**  \n",
        "- **macro avg** (rata-rata performa model di semua kelas tanpa memperhitungkan jumlah data di tiap kelas):  \n",
        "  - Precision: **0.33**  \n",
        "  - Recall: **0.33**  \n",
        "  - F1-Score: **0.33**  \n",
        "- **weighted avg** (rata-rata performa model dengan mempertimbangkan jumlah data per kelas):  \n",
        "  - Precision: **0.33**  \n",
        "  - Recall: **0.34**  \n",
        "  - F1-Score: **0.33**  \n",
        "\n",
        "## **2. Decision Tree**  \n",
        "- **Akurasi**: **1.0000**  \n",
        "- **macro avg**:  \n",
        "  - Precision: **1.00**  \n",
        "  - Recall: **1.00**  \n",
        "  - F1-Score: **1.00**  \n",
        "- **weighted avg**:  \n",
        "  - Precision: **1.00**  \n",
        "  - Recall: **1.00**  \n",
        "  - F1-Score: **1.00**  \n",
        "\n",
        "## **3. Random Forest**  \n",
        "- **Akurasi**: **1.0000**  \n",
        "- **macro avg**:  \n",
        "  - Precision: **1.00**  \n",
        "  - Recall: **1.00**  \n",
        "  - F1-Score: **1.00**  \n",
        "- **weighted avg**:  \n",
        "  - Precision: **1.00**  \n",
        "  - Recall: **1.00**  \n",
        "  - F1-Score: **1.00**  \n",
        "\n",
        "## **4. SVM (Support Vector Machine)**  \n",
        "- **Akurasi**: **0.3459**  \n",
        "- **macro avg**:  \n",
        "  - Precision: **0.23**  \n",
        "  - Recall: **0.32**  \n",
        "  - F1-Score: **0.26**  \n",
        "- **weighted avg**:  \n",
        "  - Precision: **0.24**  \n",
        "  - Recall: **0.35**  \n",
        "  - F1-Score: **0.28**  \n",
        "\n",
        "## **5. Naïve Bayes**  \n",
        "- **Akurasi**: **0.2883**  \n",
        "- **macro avg**:  \n",
        "  - Precision: **0.28**  \n",
        "  - Recall: **0.29**  \n",
        "  - F1-Score: **0.28**  \n",
        "- **weighted avg**:  \n",
        "  - Precision: **0.29**  \n",
        "  - Recall: **0.29**  \n",
        "  - F1-Score: **0.29**  \n",
        "\n",
        "### **Kesimpulan**  \n",
        "- **KNN** menunjukkan akurasi yang relatif rendah, dengan *macro avg* dan *weighted avg* berada di kisaran **0.33-0.34**, yang mengindikasikan bahwa model ini kurang efisien dalam menangani dataset ini.  \n",
        "- **SVM** dan **Naïve Bayes** memiliki performa yang sedikit lebih baik daripada KNN, namun keduanya masih menunjukkan *precision* dan *recall* yang rendah, yang mengindikasikan bahwa model-model ini kesulitan dalam mengenali pola yang ada dalam data.  \n",
        "- **Decision Tree** dan **Random Forest** berhasil mencapai akurasi **100%**, yang dapat menjadi indikasi adanya **overfitting**. Oleh karena itu, perlu dilakukan validasi lebih lanjut, seperti menggunakan *cross-validation* atau menguji model pada dataset yang berbeda, untuk memastikan model dapat bekerja secara optimal di data yang belum pernah dilihat sebelumnya.  \n"
      ],
      "metadata": {
        "id": "7iysWVX5ahG0"
      }
    },
    {
      "cell_type": "markdown",
      "source": [
        "## **c. Tuning Model Klasifikasi (Optional)**"
      ],
      "metadata": {
        "id": "ph9yIYDXEPuB"
      }
    },
    {
      "cell_type": "code",
      "source": [
        "# Menentukan ruang pencarian parameter untuk Bayesian Optimization pada Random Forest\n",
        "rf_param_space = {\n",
        "    'n_estimators': Integer(50, 300),  # Jumlah pohon yang akan diuji\n",
        "    'max_depth': Integer(5, 50),  # Kedalaman maksimum pohon\n",
        "    'min_samples_split': Integer(2, 20),  # Minimum sampel untuk split\n",
        "    'min_samples_leaf': Integer(1, 10)  # Minimum sampel per daun\n",
        "}\n",
        "\n",
        "# Membuat instance Random Forest Classifier\n",
        "random_forest = RandomForestClassifier(random_state=42, n_jobs=-1)\n",
        "\n",
        "# Menyusun Stratified K-Fold untuk cross-validation\n",
        "cross_val = StratifiedKFold(n_splits=5, shuffle=True, random_state=42)\n",
        "\n",
        "# Inisialisasi Bayesian Optimization untuk Random Forest dengan BayesSearchCV\n",
        "rf_bayes_search = BayesSearchCV(\n",
        "    estimator=random_forest,\n",
        "    search_spaces=rf_param_space,\n",
        "    n_iter=30,  # Jumlah iterasi optimasi\n",
        "    cv=cross_val,  # Cross-validation\n",
        "    n_jobs=-1,\n",
        "    verbose=2,\n",
        "    random_state=42\n",
        ")\n",
        "\n",
        "# Melakukan fitting model Random Forest dengan optimasi Bayesian\n",
        "rf_bayes_search.fit(X_train, y_train)\n",
        "\n",
        "# Menampilkan parameter terbaik yang ditemukan untuk Random Forest\n",
        "print(f\"Optimal parameters for Random Forest from Bayesian Optimization: {rf_bayes_search.best_params_}\")"
      ],
      "metadata": {
        "colab": {
          "base_uri": "https://localhost:8080/"
        },
        "id": "Y7jJ4lcMtpAd",
        "outputId": "f434c513-cd1b-4e34-fb5e-4198025ac0c8"
      },
      "execution_count": 125,
      "outputs": [
        {
          "output_type": "stream",
          "name": "stdout",
          "text": [
            "Fitting 5 folds for each of 1 candidates, totalling 5 fits\n",
            "Fitting 5 folds for each of 1 candidates, totalling 5 fits\n",
            "Fitting 5 folds for each of 1 candidates, totalling 5 fits\n",
            "Fitting 5 folds for each of 1 candidates, totalling 5 fits\n",
            "Fitting 5 folds for each of 1 candidates, totalling 5 fits\n",
            "Fitting 5 folds for each of 1 candidates, totalling 5 fits\n",
            "Fitting 5 folds for each of 1 candidates, totalling 5 fits\n",
            "Fitting 5 folds for each of 1 candidates, totalling 5 fits\n",
            "Fitting 5 folds for each of 1 candidates, totalling 5 fits\n",
            "Fitting 5 folds for each of 1 candidates, totalling 5 fits\n",
            "Fitting 5 folds for each of 1 candidates, totalling 5 fits\n",
            "Fitting 5 folds for each of 1 candidates, totalling 5 fits\n",
            "Fitting 5 folds for each of 1 candidates, totalling 5 fits\n",
            "Fitting 5 folds for each of 1 candidates, totalling 5 fits\n",
            "Fitting 5 folds for each of 1 candidates, totalling 5 fits\n",
            "Fitting 5 folds for each of 1 candidates, totalling 5 fits\n",
            "Fitting 5 folds for each of 1 candidates, totalling 5 fits\n",
            "Fitting 5 folds for each of 1 candidates, totalling 5 fits\n",
            "Fitting 5 folds for each of 1 candidates, totalling 5 fits\n",
            "Fitting 5 folds for each of 1 candidates, totalling 5 fits\n",
            "Fitting 5 folds for each of 1 candidates, totalling 5 fits\n",
            "Fitting 5 folds for each of 1 candidates, totalling 5 fits\n",
            "Fitting 5 folds for each of 1 candidates, totalling 5 fits\n",
            "Fitting 5 folds for each of 1 candidates, totalling 5 fits\n",
            "Fitting 5 folds for each of 1 candidates, totalling 5 fits\n",
            "Fitting 5 folds for each of 1 candidates, totalling 5 fits\n",
            "Fitting 5 folds for each of 1 candidates, totalling 5 fits\n",
            "Fitting 5 folds for each of 1 candidates, totalling 5 fits\n",
            "Fitting 5 folds for each of 1 candidates, totalling 5 fits\n",
            "Fitting 5 folds for each of 1 candidates, totalling 5 fits\n",
            "Optimal parameters for Random Forest from Bayesian Optimization: OrderedDict([('max_depth', 23), ('min_samples_leaf', 8), ('min_samples_split', 19), ('n_estimators', 129)])\n"
          ]
        }
      ]
    },
    {
      "cell_type": "code",
      "source": [
        "# Melakukan normalisasi terhadap data numerik pada X_train dan X_test\n",
        "scaler = MinMaxScaler()\n",
        "X_train_scaled = scaler.fit_transform(X_train)\n",
        "X_test_scaled = scaler.transform(X_test)\n",
        "\n",
        "# Menetapkan ruang pencarian parameter untuk SVM dalam Bayesian Optimization\n",
        "svm_param_grid = {\n",
        "    'C': Real(0.1, 100, prior='log-uniform'),  # Parameter regularisasi\n",
        "    'kernel': Categorical(['linear', 'rbf', 'poly', 'sigmoid']),  # Jenis kernel yang digunakan\n",
        "    'gamma': Categorical(['scale', 'auto']),  # Pilihan untuk parameter gamma\n",
        "    'degree': Integer(2, 4)  # Derajat polinomial (untuk kernel 'poly')\n",
        "}\n",
        "\n",
        "# Membuat model SVM\n",
        "svm_model = SVC(random_state=42)\n",
        "\n",
        "# Menentukan Stratified K-Fold cross-validation untuk pembagian data yang seimbang\n",
        "cross_validator = StratifiedKFold(n_splits=5, shuffle=True, random_state=42)\n",
        "\n",
        "# Menginisialisasi Bayesian Optimization dengan BayesSearchCV\n",
        "svm_bayes_opt = BayesSearchCV(\n",
        "    estimator=svm_model,\n",
        "    search_spaces=svm_param_grid,\n",
        "    n_iter=30,  # Jumlah iterasi pencarian\n",
        "    cv=cross_validator,  # Cross-validation\n",
        "    n_jobs=-1,  # Menjalankan di semua core CPU\n",
        "    verbose=2,  # Menampilkan informasi selama pencarian\n",
        "    random_state=42\n",
        ")\n",
        "\n",
        "# Melatih model dengan optimasi parameter menggunakan Bayesian Optimization\n",
        "svm_bayes_opt.fit(X_train_scaled, y_train)\n",
        "\n",
        "# Menampilkan parameter terbaik yang ditemukan oleh Bayesian Optimization\n",
        "print(f\"Optimal hyperparameters found for SVM: {svm_bayes_opt.best_params_}\")"
      ],
      "metadata": {
        "colab": {
          "base_uri": "https://localhost:8080/"
        },
        "id": "9SWIJ-nstwHH",
        "outputId": "bf9cb478-eba7-4b38-ec43-d778994332f7"
      },
      "execution_count": 126,
      "outputs": [
        {
          "output_type": "stream",
          "name": "stdout",
          "text": [
            "Fitting 5 folds for each of 1 candidates, totalling 5 fits\n",
            "Fitting 5 folds for each of 1 candidates, totalling 5 fits\n",
            "Fitting 5 folds for each of 1 candidates, totalling 5 fits\n",
            "Fitting 5 folds for each of 1 candidates, totalling 5 fits\n",
            "Fitting 5 folds for each of 1 candidates, totalling 5 fits\n",
            "Fitting 5 folds for each of 1 candidates, totalling 5 fits\n",
            "Fitting 5 folds for each of 1 candidates, totalling 5 fits\n",
            "Fitting 5 folds for each of 1 candidates, totalling 5 fits\n",
            "Fitting 5 folds for each of 1 candidates, totalling 5 fits\n",
            "Fitting 5 folds for each of 1 candidates, totalling 5 fits\n",
            "Fitting 5 folds for each of 1 candidates, totalling 5 fits\n",
            "Fitting 5 folds for each of 1 candidates, totalling 5 fits\n",
            "Fitting 5 folds for each of 1 candidates, totalling 5 fits\n",
            "Fitting 5 folds for each of 1 candidates, totalling 5 fits\n",
            "Fitting 5 folds for each of 1 candidates, totalling 5 fits\n",
            "Fitting 5 folds for each of 1 candidates, totalling 5 fits\n",
            "Fitting 5 folds for each of 1 candidates, totalling 5 fits\n",
            "Fitting 5 folds for each of 1 candidates, totalling 5 fits\n",
            "Fitting 5 folds for each of 1 candidates, totalling 5 fits\n",
            "Fitting 5 folds for each of 1 candidates, totalling 5 fits\n",
            "Fitting 5 folds for each of 1 candidates, totalling 5 fits\n",
            "Fitting 5 folds for each of 1 candidates, totalling 5 fits\n",
            "Fitting 5 folds for each of 1 candidates, totalling 5 fits\n",
            "Fitting 5 folds for each of 1 candidates, totalling 5 fits\n",
            "Fitting 5 folds for each of 1 candidates, totalling 5 fits\n",
            "Fitting 5 folds for each of 1 candidates, totalling 5 fits\n",
            "Fitting 5 folds for each of 1 candidates, totalling 5 fits\n",
            "Fitting 5 folds for each of 1 candidates, totalling 5 fits\n",
            "Fitting 5 folds for each of 1 candidates, totalling 5 fits\n",
            "Fitting 5 folds for each of 1 candidates, totalling 5 fits\n",
            "Optimal hyperparameters found for SVM: OrderedDict([('C', 1.6994636371262763), ('degree', 3), ('gamma', 'auto'), ('kernel', 'rbf')])\n"
          ]
        }
      ]
    },
    {
      "cell_type": "markdown",
      "source": [
        "Gunakan GridSearchCV, RandomizedSearchCV, atau metode lainnya untuk mencari kombinasi hyperparameter terbaik"
      ],
      "metadata": {
        "id": "-Bikx3LINv5e"
      }
    },
    {
      "cell_type": "markdown",
      "source": [
        "## **d. Evaluasi Model Klasifikasi setelah Tuning (Optional)**"
      ],
      "metadata": {
        "id": "hE7pqlEPEYzI"
      }
    },
    {
      "cell_type": "markdown",
      "source": [
        "Berikut adalah rekomendasi tahapannya.\n",
        "1. Gunakan model dengan hyperparameter terbaik.\n",
        "2. Hitung ulang metrik evaluasi untuk melihat apakah ada peningkatan performa."
      ],
      "metadata": {
        "id": "feaPESoeN0zz"
      }
    },
    {
      "cell_type": "code",
      "source": [
        "# Memilih model terbaik dari hasil Bayesian Optimization untuk Random Forest\n",
        "best_rf_bayes = rf_bayes_search.best_estimator_\n",
        "\n",
        "# Evaluasi performa model pada test set\n",
        "y_pred_rf = best_rf_bayes.predict(X_test)\n",
        "\n",
        "# Menghitung metrik evaluasi\n",
        "accuracy_rf = accuracy_score(y_test, y_pred_rf)\n",
        "precision_rf = precision_score(y_test, y_pred_rf, average='weighted')\n",
        "recall_rf = recall_score(y_test, y_pred_rf, average='weighted')\n",
        "f1_rf = f1_score(y_test, y_pred_rf, average='weighted')\n",
        "conf_matrix_rf = confusion_matrix(y_test, y_pred_rf)\n",
        "class_report_rf = classification_report(y_test, y_pred_rf, zero_division=0)  # Menambahkan zero_division=0 untuk menangani pembagian nol\n",
        "\n",
        "# Menampilkan hasil evaluasi\n",
        "print(f\"Accuracy: {accuracy_rf:.4f}\")\n",
        "print(f\"Precision: {precision_rf:.4f}\")\n",
        "print(f\"Recall: {recall_rf:.4f}\")\n",
        "print(f\"F1 Score: {f1_rf:.4f}\")\n",
        "print(\"\\nClassification Report:\\n\", class_report_rf)\n",
        "\n",
        "# Visualisasi Confusion Matrix dengan heatmap\n",
        "plt.figure(figsize=(8, 6))\n",
        "class_labels_rf = np.unique(y_test)  # Menangani kelas secara dinamis\n",
        "sns.heatmap(conf_matrix_rf, annot=True, fmt=\"d\", cmap=\"Blues\",\n",
        "            xticklabels=class_labels_rf, yticklabels=class_labels_rf)\n",
        "plt.title(\"Confusion Matrix - Random Forest (Bayesian Optimization)\")\n",
        "plt.xlabel(\"Predicted Labels\")\n",
        "plt.ylabel(\"True Labels\")\n",
        "plt.show()"
      ],
      "metadata": {
        "colab": {
          "base_uri": "https://localhost:8080/",
          "height": 824
        },
        "id": "5sga10u02Aaw",
        "outputId": "0d03cb27-9a7f-409f-98fc-a38800d78494"
      },
      "execution_count": 127,
      "outputs": [
        {
          "output_type": "stream",
          "name": "stdout",
          "text": [
            "Accuracy: 1.0000\n",
            "Precision: 1.0000\n",
            "Recall: 1.0000\n",
            "F1 Score: 1.0000\n",
            "\n",
            "Classification Report:\n",
            "               precision    recall  f1-score   support\n",
            "\n",
            "           0       1.00      1.00      1.00       186\n",
            "           1       1.00      1.00      1.00       166\n",
            "           2       1.00      1.00      1.00       151\n",
            "\n",
            "    accuracy                           1.00       503\n",
            "   macro avg       1.00      1.00      1.00       503\n",
            "weighted avg       1.00      1.00      1.00       503\n",
            "\n"
          ]
        },
        {
          "output_type": "display_data",
          "data": {
            "text/plain": [
              "<Figure size 800x600 with 2 Axes>"
            ],
            "image/png": "[encoded data removed]"
          },
          "metadata": {}
        }
      ]
    },
    {
      "cell_type": "code",
      "source": [
        "# Mengambil model terbaik yang ditemukan melalui Bayesian Optimization untuk SVM\n",
        "best_svm_bayes = svm_bayes_opt.best_estimator_\n",
        "\n",
        "# Melakukan prediksi menggunakan model terbaik pada data pengujian\n",
        "y_pred_svm = best_svm_bayes.predict(X_test_scaled)\n",
        "\n",
        "# Menghitung metrik evaluasi\n",
        "accuracy_svm = accuracy_score(y_test, y_pred_svm)\n",
        "precision_svm = precision_score(y_test, y_pred_svm, average='weighted')\n",
        "recall_svm = recall_score(y_test, y_pred_svm, average='weighted')\n",
        "f1_svm = f1_score(y_test, y_pred_svm, average='weighted')\n",
        "conf_matrix_svm = confusion_matrix(y_test, y_pred_svm)\n",
        "class_report_svm = classification_report(y_test, y_pred_svm)\n",
        "\n",
        "# Menampilkan hasil evaluasi model\n",
        "print(f\"Accuracy (SVM): {accuracy_svm:.4f}\")\n",
        "print(f\"Precision (SVM): {precision_svm:.4f}\")\n",
        "print(f\"Recall (SVM): {recall_svm:.4f}\")\n",
        "print(f\"F1 Score (SVM): {f1_svm:.4f}\")\n",
        "print(\"\\nClassification Report (SVM):\\n\", class_report_svm)\n",
        "\n",
        "# Visualisasi Confusion Matrix dengan heatmap\n",
        "plt.figure(figsize=(8, 6))\n",
        "class_labels_svm = np.unique(y_test)  # Menyesuaikan kelas secara dinamis\n",
        "sns.heatmap(conf_matrix_svm, annot=True, fmt=\"d\", cmap=\"Blues\",\n",
        "            xticklabels=class_labels_svm, yticklabels=class_labels_svm)\n",
        "plt.title(\"Confusion Matrix - SVM (Bayesian Optimization)\")\n",
        "plt.xlabel(\"Predicted Labels\")\n",
        "plt.ylabel(\"True Labels\")\n",
        "plt.show()"
      ],
      "metadata": {
        "id": "HTXZRvEeNMb1",
        "colab": {
          "base_uri": "https://localhost:8080/",
          "height": 824
        },
        "outputId": "4ab4222e-4c9c-4298-c7f3-f2ba5bf02fba"
      },
      "execution_count": 128,
      "outputs": [
        {
          "output_type": "stream",
          "name": "stdout",
          "text": [
            "Accuracy (SVM): 1.0000\n",
            "Precision (SVM): 1.0000\n",
            "Recall (SVM): 1.0000\n",
            "F1 Score (SVM): 1.0000\n",
            "\n",
            "Classification Report (SVM):\n",
            "               precision    recall  f1-score   support\n",
            "\n",
            "           0       1.00      1.00      1.00       186\n",
            "           1       1.00      1.00      1.00       166\n",
            "           2       1.00      1.00      1.00       151\n",
            "\n",
            "    accuracy                           1.00       503\n",
            "   macro avg       1.00      1.00      1.00       503\n",
            "weighted avg       1.00      1.00      1.00       503\n",
            "\n"
          ]
        },
        {
          "output_type": "display_data",
          "data": {
            "text/plain": [
              "<Figure size 800x600 with 2 Axes>"
            ],
            "image/png": "[encoded data removed]"
          },
          "metadata": {}
        }
      ]
    },
    {
      "cell_type": "markdown",
      "source": [
        "## **e. Analisis Hasil Evaluasi Model Klasifikasi**"
      ],
      "metadata": {
        "id": "ZRsOdm4uEgAW"
      }
    },
    {
      "cell_type": "markdown",
      "source": [
        "Berikut adalah **rekomendasi** tahapannya.\n",
        "1. Bandingkan hasil evaluasi sebelum dan setelah tuning (jika dilakukan).\n",
        "2. Identifikasi kelemahan model, seperti:\n",
        "  - Precision atau Recall rendah untuk kelas tertentu.\n",
        "  - Apakah model mengalami overfitting atau underfitting?\n",
        "3. Berikan rekomendasi tindakan lanjutan, seperti mengumpulkan data tambahan atau mencoba algoritma lain jika hasil belum memuaskan."
      ],
      "metadata": {
        "id": "Hm3BhSi6N4_l"
      }
    },
    {
      "cell_type": "markdown",
      "source": [
        "# **Analisis Hasil Evaluasi Model Klasifikasi**\n",
        "\n",
        "### 1. **Perbandingan Hasil Evaluasi Sebelum dan Setelah Tuning**\n",
        "\n",
        "**a) Algoritma Random Forest**  \n",
        "Setelah dilakukan tuning pada model, berikut adalah perbandingan hasil evaluasi:\n",
        "\n",
        "- **Akurasi sebelum tuning**: 1.0000  \n",
        "- **Akurasi setelah tuning**: 1.0000  \n",
        "- **Perubahan metrik lainnya**:\n",
        "  - Precision: 1.00 (sebelum dan sesudah tuning tetap sama)\n",
        "  - Recall: 1.00 (sebelum dan sesudah tuning tetap sama)\n",
        "  - F1-Score: 1.00 (sebelum dan sesudah tuning tetap sama)\n",
        "\n",
        "Dalam kasus Random Forest, hasilnya menunjukkan bahwa model sudah memberikan performa yang sangat baik sejak awal, dengan akurasi sempurna dan metrik evaluasi lainnya yang juga sudah optimal. Oleh karena itu, tuning tidak membawa perubahan signifikan, karena model sudah mencapai titik maksimalnya.\n",
        "\n",
        "**b) Algoritma SVM**  \n",
        "Berikut adalah perbandingan hasil evaluasi SVM sebelum dan setelah dilakukan tuning:\n",
        "\n",
        "- **Akurasi sebelum tuning**: 0.3459  \n",
        "- **Akurasi setelah tuning**: 1.0000  \n",
        "- **Perubahan metrik lainnya**:\n",
        "  - Precision: 0.23 (sebelum tuning) vs. 1.00 (setelah tuning)\n",
        "  - Recall: 0.32 (sebelum tuning) vs. 1.00 (setelah tuning)\n",
        "  - F1-Score: 0.26 (sebelum tuning) vs. 1.00 (setelah tuning)\n",
        "\n",
        "Setelah dilakukan optimasi parameter, SVM menunjukkan peningkatan yang sangat mencolok. Sebelum tuning, performanya masih sangat rendah, namun setelah tuning, akurasi dan semua metrik evaluasi lainnya meroket mencapai angka sempurna. Ini menunjukkan bahwa tuning pada model SVM berhasil memberikan dampak yang signifikan terhadap kinerjanya.\n",
        "\n",
        "\n",
        "Berikut adalah penulisan dengan gaya yang lebih akademis dan formal:\n",
        "\n",
        "### 2. **Identifikasi Kelemahan Model**\n",
        "\n",
        "- **Kinerja yang Tidak Optimal pada Kelas Tertentu (Precision atau Recall yang Rendah)**:  \n",
        "  Ketika precision atau recall pada suatu kelas menunjukkan nilai yang rendah, hal ini mengindikasikan bahwa model tidak dapat mengklasifikasikan kelas tersebut secara efektif. Secara khusus, rendahnya nilai recall menunjukkan bahwa model gagal untuk mendeteksi sebagian besar sampel dari kelas tersebut, yang pada gilirannya dapat menyebabkan ketidaktepatan dalam pengklasifikasian.\n",
        "\n",
        "- **Overfitting dan Underfitting**:  \n",
        "  - **Overfitting** merujuk pada kondisi di mana model menunjukkan performa yang sangat baik pada data pelatihan, namun tidak mampu menggeneralisasi pola dengan baik pada data pengujian. Fenomena ini terjadi ketika model terlalu kompleks dan terlalu menyesuaikan diri dengan data pelatihan sehingga kehilangan kemampuan untuk memprediksi dengan akurat pada data yang tidak terlihat sebelumnya.\n",
        "  - **Underfitting** mengacu pada situasi di mana model gagal untuk menangkap pola yang relevan baik pada data pelatihan maupun data pengujian. Ini biasanya disebabkan oleh kompleksitas model yang terlalu rendah, yang mengakibatkan model tidak dapat menggambarkan hubungan yang ada dalam data, sehingga menghasilkan performa yang buruk pada kedua set data.\n",
        "\n",
        "### 3. **Rekomendasi Tindakan Lanjutan**\n",
        "\n",
        "1. **Peningkatan Jumlah Data**:  \n",
        "   Penambahan sampel data dapat memberikan variasi yang lebih luas bagi model dalam mempelajari pola-pola yang ada. Hal ini dapat membantu model untuk menggeneralisasi dengan lebih baik, khususnya dalam menghadapi kasus-kasus yang sebelumnya kurang terwakili dalam data pelatihan.\n",
        "\n",
        "2. **Penanganan Ketidakseimbangan Kelas**:  \n",
        "   Ketidakseimbangan distribusi kelas dapat menyebabkan model cenderung lebih memprediksi kelas mayoritas. Oleh karena itu, teknik seperti **oversampling** (peningkatan jumlah data pada kelas minoritas) atau **undersampling** (pengurangan jumlah data pada kelas mayoritas) dapat diterapkan untuk menyeimbangkan distribusi kelas sehingga model dapat belajar untuk memprediksi setiap kelas secara lebih adil.\n",
        "\n",
        "3. **Eksplorasi Algoritma Alternatif**:  \n",
        "   Jika model yang digunakan saat ini belum memberikan hasil yang memadai, mencoba algoritma lain dapat menjadi solusi. Algoritma seperti **Random Forest**, **XGBoost**, atau **Deep Learning** mungkin memiliki keunggulan dalam menangani tipe data tertentu, sehingga memberikan hasil yang lebih baik dalam konteks yang sama.\n",
        "\n",
        "4. **Peningkatan Proses Feature Engineering**:  \n",
        "   Teknik **feature engineering** yang lebih mendalam dapat membantu meningkatkan kinerja model. Ini melibatkan eksplorasi fitur tambahan yang relevan atau melakukan seleksi fitur untuk mengeliminasi informasi yang tidak memberikan kontribusi signifikan. Fokus utama adalah memastikan bahwa model hanya dilatih dengan fitur yang paling informatif dan relevan.\n",
        "\n",
        "5. **Regularisasi dan Fine-Tuning Lanjutan**:  \n",
        "   Pengaturan hyperparameter yang lebih teliti melalui **fine-tuning** atau penggunaan teknik **regularisasi** dapat membantu mengatasi masalah overfitting dan meningkatkan generalisasi model. Pendekatan ini akan memaksimalkan performa model dengan cara yang lebih terarah dan sistematis.\n"
      ],
      "metadata": {
        "id": "i_YupcXoeS9X"
      }
    }
  ]
}